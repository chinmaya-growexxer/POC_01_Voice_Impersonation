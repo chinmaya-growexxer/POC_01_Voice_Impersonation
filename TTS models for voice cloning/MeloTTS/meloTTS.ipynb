{
 "cells": [
  {
   "cell_type": "markdown",
   "metadata": {},
   "source": [
    "Installing MeloTTS on local machine\n",
    "\n",
    "git clone https://github.com/myshell-ai/MeloTTS.git \n",
    "\n",
    "cd MeloTTS\n",
    "\n",
    "pip install -e .\n",
    "\n",
    "python -m unidic download"
   ]
  },
  {
   "cell_type": "code",
   "execution_count": 4,
   "metadata": {},
   "outputs": [
    {
     "name": "stderr",
     "output_type": "stream",
     "text": [
      "/home/growlt240/Documents/VoiceImpersonationPOC-01/poc1/lib/python3.10/site-packages/torch/nn/utils/weight_norm.py:134: FutureWarning: `torch.nn.utils.weight_norm` is deprecated in favor of `torch.nn.utils.parametrizations.weight_norm`.\n",
      "  WeightNorm.apply(module, name, dim)\n",
      "/home/growlt240/Documents/VoiceImpersonationPOC-01/MeloTTS/melo/download_utils.py:64: FutureWarning: You are using `torch.load` with `weights_only=False` (the current default value), which uses the default pickle module implicitly. It is possible to construct malicious pickle data which will execute arbitrary code during unpickling (See https://github.com/pytorch/pytorch/blob/main/SECURITY.md#untrusted-models for more details). In a future release, the default value for `weights_only` will be flipped to `True`. This limits the functions that could be executed during unpickling. Arbitrary objects will no longer be allowed to be loaded via this mode unless they are explicitly allowlisted by the user via `torch.serialization.add_safe_globals`. We recommend you start setting `weights_only=True` for any use case where you don't have full control of the loaded file. Please open an issue on GitHub for any issues related to this experimental feature.\n",
      "  return torch.load(ckpt_path, map_location=device)\n"
     ]
    },
    {
     "name": "stdout",
     "output_type": "stream",
     "text": [
      " > Text split to sentences.\n",
      "Here are some case study titles from the provided text: * 1. Revolutionizing Ambulance Booking Services with a Web Portal and a Mobile App. * 2. Creating a Platform for the Freelance Gig Economy. * 3. A Mobile Marketplace to Rent or Buy Clothing on Campus.\n",
      "* 4. An Intelligent Innovation to Assist Emergency Medical Staff. * 5. Digital payment solutions for small businesses. * 6. Business Intelligence Solution built on Big Data for Internet Telephony Enterprise. * 7. Funding Platform To Help Budding Musicians.\n",
      "* 8. Creating a Product Roadmap for AI-powered Career Counselling System.\n",
      " > ===========================\n"
     ]
    },
    {
     "name": "stderr",
     "output_type": "stream",
     "text": [
      "100%|██████████| 3/3 [01:15<00:00, 25.03s/it]\n"
     ]
    }
   ],
   "source": [
    "from melo.api import TTS\n",
    "\n",
    "# Speed is adjustable\n",
    "speed = 0.8\n",
    "\n",
    "# CPU is sufficient for real-time inference.\n",
    "# You can set it manually to 'cpu' or 'cuda' or 'cuda:0' or 'mps'\n",
    "device = 'auto' # Will automatically use GPU if available\n",
    "\n",
    "# English \n",
    "# text = \"Did you ever hear a folk tale about a giant turtle?\"\n",
    "text = '''Here are some case study titles from the provided text:\n",
    "* 1.Revolutionizing Ambulance Booking Services with a Web Portal and a Mobile App. \n",
    "* 2.Creating a Platform for the Freelance Gig Economy.\n",
    "* 3.A Mobile Marketplace to Rent or Buy Clothing on Campus.\n",
    "* 4.An Intelligent Innovation to Assist Emergency Medical Staff.\n",
    "* 5.Digital payment solutions for small businesses. \n",
    "* 6.Business Intelligence Solution built on Big Data for Internet Telephony Enterprise.\n",
    "* 7.Funding Platform To Help Budding Musicians.\n",
    "* 8.Creating a Product Roadmap for AI-powered Career Counselling System. '''\n",
    "model = TTS(language='EN', device=device)\n",
    "speaker_ids = model.hps.data.spk2id\n",
    "\n",
    "# # American accent\n",
    "# output_path = 'en-us.wav'\n",
    "# model.tts_to_file(text, speaker_ids['EN-US'], output_path, speed=speed)\n",
    "\n",
    "# # British accent\n",
    "# output_path = 'en-br.wav'\n",
    "# model.tts_to_file(text, speaker_ids['EN-BR'], output_path, speed=speed)\n",
    "\n",
    "# Indian accent\n",
    "output_path = 'en-india3.wav'\n",
    "model.tts_to_file(text, speaker_ids['EN_INDIA'], output_path, speed=speed)\n",
    "\n",
    "# # Australian accent\n",
    "# output_path = 'en-au.wav'\n",
    "# model.tts_to_file(text, speaker_ids['EN-AU'], output_path, speed=speed)\n",
    "\n",
    "# # Default accent\n",
    "# output_path = 'en-default.wav'\n",
    "# model.tts_to_file(text, speaker_ids['EN-Default'], output_path, speed=speed)\n"
   ]
  }
 ],
 "metadata": {
  "kernelspec": {
   "display_name": "poc1",
   "language": "python",
   "name": "python3"
  },
  "language_info": {
   "codemirror_mode": {
    "name": "ipython",
    "version": 3
   },
   "file_extension": ".py",
   "mimetype": "text/x-python",
   "name": "python",
   "nbconvert_exporter": "python",
   "pygments_lexer": "ipython3",
   "version": "3.10.12"
  }
 },
 "nbformat": 4,
 "nbformat_minor": 2
}
